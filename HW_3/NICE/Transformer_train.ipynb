{
 "cells": [
  {
   "cell_type": "markdown",
   "metadata": {},
   "source": [
    "# If Using colab"
   ]
  },
  {
   "cell_type": "code",
   "execution_count": null,
   "metadata": {},
   "outputs": [],
   "source": [
    "# This mounts your Google Drive to the Colab VM.\n",
    "from google.colab import drive\n",
    "drive.mount('/content/drive')\n",
    "\n",
    "# TODO: Enter the foldername in your Drive where you have saved the unzipped\n",
    "# assignment folder, e.g. 'CV_HW3/assignment3/'\n",
    "FOLDERNAME = '/content/drive/MyDrive/CV HW3'\n",
    "assert FOLDERNAME is not None, \"[!] Enter the foldername.\"\n",
    "\n",
    "# Now that we've mounted your Drive, this ensures that\n",
    "# the Python interpreter of the Colab VM can load\n",
    "# python files from within it.\n",
    "import sys\n",
    "sys.path.append('/content/drive/MyDrive/Colab Notebooks/{}'.format(FOLDERNAME))\n",
    "\n",
    "# This downloads the COCO dataset to your Drive\n",
    "# if it doesn't already exist.\n",
    "%cd /content/drive/MyDrive/CV HW3/CV/datasets\n",
    "!bash get_datasets.sh\n",
    "\n",
    "%cd /content/drive/MyDrive/CV HW3"
   ]
  },
  {
   "cell_type": "markdown",
   "metadata": {},
   "source": [
    "## Load data"
   ]
  },
  {
   "cell_type": "code",
   "execution_count": 1,
   "metadata": {},
   "outputs": [],
   "source": [
    "# Setup cell.\n",
    "import time, os, json\n",
    "import numpy as np\n",
    "import matplotlib.pyplot as plt\n",
    "\n",
    "from utils.transformer_layers import *\n",
    "from utils.captioning_solver_transformer import CaptioningSolverTransformer\n",
    "from utils.transformer import CaptioningTransformer\n",
    "from utils.coco_utils import load_coco_data, decode_captions\n",
    "\n",
    "%matplotlib inline\n",
    "plt.rcParams['figure.figsize'] = (10.0, 8.0) # Set default size of plots.\n",
    "plt.rcParams['image.interpolation'] = 'nearest'\n",
    "plt.rcParams['image.cmap'] = 'gray'\n",
    "\n",
    "%load_ext autoreload\n",
    "%autoreload 2\n",
    "\n",
    "def rel_error(x, y):\n",
    "    \"\"\" returns relative error \"\"\"\n",
    "    return np.max(np.abs(x - y) / (np.maximum(1e-8, np.abs(x) + np.abs(y))))"
   ]
  },
  {
   "cell_type": "code",
   "execution_count": 2,
   "metadata": {},
   "outputs": [
    {
     "name": "stdout",
     "output_type": "stream",
     "text": [
      "base dir  /Users/tt/Documents/Hanyang/3rd grade/Computer Vision/HW_3/NICE/datasets/coco_captioning\n"
     ]
    }
   ],
   "source": [
    "data = load_coco_data(pca_features=False, base_dir='/Users/tt/Documents/Hanyang/3rd grade/Computer Vision/HW_3/NICE/datasets/coco_captioning')#['nice_feature']"
   ]
  },
  {
   "cell_type": "code",
   "execution_count": 3,
   "metadata": {},
   "outputs": [],
   "source": [
    "from utils.coco_utils import sample_coco_minibatch\n",
    "minibatch = sample_coco_minibatch(\n",
    "            data, batch_size=1, split=\"train\")\n",
    "captions, features, urls = minibatch"
   ]
  },
  {
   "cell_type": "code",
   "execution_count": 4,
   "metadata": {},
   "outputs": [
    {
     "name": "stdout",
     "output_type": "stream",
     "text": [
      "base dir  /Users/tt/Documents/Hanyang/3rd grade/Computer Vision/HW_3/NICE/datasets/coco_captioning\n"
     ]
    },
    {
     "ename": "",
     "evalue": "",
     "output_type": "error",
     "traceback": [
      "\u001b[1;31mThe Kernel crashed while executing code in the current cell or a previous cell. \n",
      "\u001b[1;31mPlease review the code in the cell(s) to identify a possible cause of the failure. \n",
      "\u001b[1;31mClick <a href='https://aka.ms/vscodeJupyterKernelCrash'>here</a> for more info. \n",
      "\u001b[1;31mView Jupyter <a href='command:jupyter.viewOutput'>log</a> for further details."
     ]
    }
   ],
   "source": [
    "torch.manual_seed(231)\n",
    "np.random.seed(231)\n",
    "\n",
    "data = load_coco_data(pca_features=False, base_dir='/Users/tt/Documents/Hanyang/3rd grade/Computer Vision/HW_3/NICE/datasets/coco_captioning')\n",
    "\n",
    "if torch.cuda.is_available():\n",
    "    device = 'cuda'\n",
    "elif torch.backends.mps.is_available():\n",
    "    device = 'mps'\n",
    "else:\n",
    "    device = 'cpu'\n",
    "print(f\"Now using {device} device\")\n",
    "\n",
    "transformer = CaptioningTransformer(\n",
    "          word_to_idx=data['word_to_idx'],\n",
    "          input_dim=data['train_features'].shape[1],\n",
    "          wordvec_dim=256,\n",
    "          num_heads=4,\n",
    "          num_layers=2,\n",
    "          max_length=30\n",
    "        ).to(device)\n",
    "\n",
    "\n",
    "transformer_solver = CaptioningSolverTransformer(\n",
    "           transformer, data, idx_to_word=data['idx_to_word'],\n",
    "           num_epochs=30,\n",
    "           batch_size=20,\n",
    "           learning_rate=5e-4,\n",
    "           verbose=True, print_every=1000,\n",
    "         )\n",
    "\n"
   ]
  },
  {
   "cell_type": "code",
   "execution_count": null,
   "metadata": {},
   "outputs": [],
   "source": [
    "\n",
    "transformer_solver.train()\n",
    "\n",
    "# Plot the training losses.\n",
    "plt.plot(transformer_solver.loss_history)\n",
    "plt.xlabel('Iteration')\n",
    "plt.ylabel('Loss')\n",
    "plt.title('Training loss history')\n",
    "plt.show()\n",
    "\n",
    "torch.save(transformer.state_dict(), 'trained.pt')"
   ]
  },
  {
   "cell_type": "markdown",
   "metadata": {},
   "source": [
    "## Make json file"
   ]
  },
  {
   "cell_type": "code",
   "execution_count": null,
   "metadata": {},
   "outputs": [],
   "source": [
    "import json\n",
    "import os\n",
    "from tqdm import tqdm\n",
    "from google.colab import files\n",
    "\n",
    "def generate_caption(feature):\n",
    "    captions = transformer.sample(feature)\n",
    "    captions = decode_captions(captions, data['idx_to_word'])\n",
    "    return captions[0]\n",
    "\n",
    "student_id = \"2022094093\"\n",
    "pred = []\n",
    "nice_feat = data['nice_feature']\n",
    "nice_feat = np.expand_dims(nice_feat, axis=1)\n",
    "\n",
    "for i in tqdm(range(len(nice_feat))):\n",
    "    caption = generate_caption(nice_feat[i])\n",
    "    image_id = i + 1\n",
    "    pred.append({'image_id' : image_id, 'caption' : caption})"
   ]
  },
  {
   "cell_type": "code",
   "execution_count": null,
   "metadata": {},
   "outputs": [],
   "source": [
    "result = {\"student_id\" : student_id, \"prediction\" : pred}\n",
    "json.dump(result, open('prediction_baseline.json', 'w'), indent='\\t')\n",
    "files.download('prediction_baseline.json')"
   ]
  }
 ],
 "metadata": {
  "kernelspec": {
   "display_name": "ds",
   "language": "python",
   "name": "python3"
  },
  "language_info": {
   "codemirror_mode": {
    "name": "ipython",
    "version": 3
   },
   "file_extension": ".py",
   "mimetype": "text/x-python",
   "name": "python",
   "nbconvert_exporter": "python",
   "pygments_lexer": "ipython3",
   "version": "3.8.19"
  }
 },
 "nbformat": 4,
 "nbformat_minor": 2
}
